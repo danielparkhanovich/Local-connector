{
 "cells": [
  {
   "cell_type": "markdown",
   "metadata": {},
   "source": [
    "## Connector demo\n",
    "updated to EDC v. 0.7.0\n",
    "\n",
    "based on https://github.com/jhalasinski/connector-local and https://github.com/eclipse-edc/Samples"
   ]
  },
  {
   "cell_type": "code",
   "execution_count": 1,
   "metadata": {},
   "outputs": [],
   "source": [
    "import requests\n",
    "import json"
   ]
  },
  {
   "cell_type": "markdown",
   "metadata": {},
   "source": [
    "### Demo setup"
   ]
  },
  {
   "cell_type": "code",
   "execution_count": 2,
   "metadata": {},
   "outputs": [],
   "source": [
    "# for paas:\n",
    "\n",
    "PROVIDER_URL = \"https://provider-edc-connector...\"\n",
    "CONSUMER_URL = \"https://consumer-edc-connector...\"\n",
    "\n",
    "default_headers = {\n",
    "    \"Content-Type\": \"application/json\"\n",
    "    ,\"X-API-KEY\": \"fifi-info-zaneta\"\n",
    "}\n",
    "\n",
    "## for local:\n",
    "LOCALHOST = \"http://localhost\"\n",
    "CONSUMER_CONTAINER = \"http://consumer-connector\"\n",
    "PROVIDER_CONTAINER = \"http://provider-connector\"\n",
    "CONSUMER_URL = LOCALHOST\n",
    "PROVIDER_URL = LOCALHOST"
   ]
  },
  {
   "cell_type": "code",
   "execution_count": 3,
   "metadata": {},
   "outputs": [],
   "source": [
    "# PROVIDER_API = f\"{PROVIDER_URL}/api\"\n",
    "# PROVIDER_CONTROL = f\"{PROVIDER_URL}/control\"\n",
    "# PROVIDER_MANAGEMENT = f\"{PROVIDER_URL}/management\"\n",
    "# PROVIDER_PROTOCOL = f\"{PROVIDER_URL}/protocol\"\n",
    "# PROVIDER_PUBLIC = f\"{PROVIDER_URL}/public\"\n",
    "\n",
    "# CONSUMER_API = f\"{CONSUMER_URL}/api\"\n",
    "# CONSUMER_CONTROL = f\"{CONSUMER_URL}/control\"\n",
    "# CONSUMER_MANAGEMENT = f\"{CONSUMER_URL}/management\"\n",
    "# CONSUMER_PROTOCOL = f\"{CONSUMER_URL}/protocol\"\n",
    "# CONSUMER_PUBLIC = f\"{CONSUMER_URL}/public\"\n",
    "\n",
    "PROVIDER_API = f\"{PROVIDER_URL}:19191/api\"\n",
    "PROVIDER_CONTROL = f\"{PROVIDER_URL}:19192/control\"\n",
    "PROVIDER_MANAGEMENT = f\"{PROVIDER_URL}:19193/management\"\n",
    "PROVIDER_PROTOCOL = f\"{PROVIDER_URL}:19194/protocol\"\n",
    "PROVIDER_PUBLIC = f\"{PROVIDER_URL}:19291/public\"\n",
    "\n",
    "CONSUMER_API = f\"{CONSUMER_URL}:29191/api\"\n",
    "CONSUMER_CONTROL = f\"{CONSUMER_URL}:29192/control\"\n",
    "CONSUMER_MANAGEMENT = f\"{CONSUMER_URL}:29193/management\"\n",
    "CONSUMER_PROTOCOL = f\"{CONSUMER_URL}:29194/protocol\"\n",
    "CONSUMER_PUBLIC = f\"{CONSUMER_URL}:29291/public\"\n"
   ]
  },
  {
   "cell_type": "code",
   "execution_count": 4,
   "metadata": {},
   "outputs": [],
   "source": [
    "\"\"\"\n",
    "The vars below are useful when working on local deployment\n",
    "(or at least when no routings are specified for connectors)\n",
    "Docker containers have their own localhost, which is not the host\n",
    "machine's localhost.\n",
    "\n",
    "In some requests there is a 'counterPartyAddress' which contains\n",
    "localhost. This one will be solved as containers' internal localhost\n",
    "but not the localhost of the host machine and connectors won't connect\n",
    "to each other.\n",
    "\n",
    "Hence we substitute the \"localhost\" with containers' names (if they\n",
    "contain \"localhost\", otherwise urls remain unchanged).\n",
    "If routings are specified correctly on PaaS, those lines aren't\n",
    "required.\n",
    "\n",
    "We leave those vars here anyway, just not to complicate \n",
    "any of the requests later in the demo. \n",
    "\"\"\"\n",
    "\n",
    "provider_control_intern = PROVIDER_CONTROL.replace(LOCALHOST, PROVIDER_CONTAINER)\n",
    "provider_public_intern = PROVIDER_PUBLIC.replace(LOCALHOST, PROVIDER_CONTAINER)\n",
    "provider_protocol_internal = f\"{PROVIDER_PROTOCOL}\".replace(LOCALHOST, PROVIDER_CONTAINER)\n"
   ]
  },
  {
   "cell_type": "markdown",
   "metadata": {},
   "source": [
    "### Conn Check"
   ]
  },
  {
   "cell_type": "code",
   "execution_count": 5,
   "metadata": {},
   "outputs": [
    {
     "name": "stdout",
     "output_type": "stream",
     "text": [
      "http://localhost:19191/api/check/health/\n",
      "{'componentResults': [{'failure': None, 'component': None, 'isHealthy': True}], 'isSystemHealthy': True}\n"
     ]
    }
   ],
   "source": [
    "print(f\"{PROVIDER_API}/check/health/\")\n",
    "rp = requests.get(f\"{PROVIDER_API}/check/health/\").json()\n",
    "print(rp)"
   ]
  },
  {
   "cell_type": "code",
   "execution_count": 6,
   "metadata": {},
   "outputs": [
    {
     "name": "stdout",
     "output_type": "stream",
     "text": [
      "http://localhost:19191/api/check/health/\n",
      "{'componentResults': [{'failure': None, 'component': None, 'isHealthy': True}], 'isSystemHealthy': True}\n",
      "\n",
      "http://localhost:29191/api/check/health/\n",
      "{'componentResults': [{'failure': None, 'component': None, 'isHealthy': True}], 'isSystemHealthy': True}\n",
      "\n",
      "They're Alive!\n"
     ]
    }
   ],
   "source": [
    "print(f\"{PROVIDER_API}/check/health/\")\n",
    "rp = requests.get(f\"{PROVIDER_API}/check/health/\").json()\n",
    "print(rp)\n",
    "\n",
    "print()\n",
    "\n",
    "print(f\"{CONSUMER_API}/check/health/\")\n",
    "rc = requests.get(f\"{CONSUMER_API}/check/health/\").json()\n",
    "print(rc)\n",
    "\n",
    "print()\n",
    "print(\"They're Alive!\")"
   ]
  },
  {
   "cell_type": "markdown",
   "metadata": {},
   "source": [
    "### Populating the provider"
   ]
  },
  {
   "cell_type": "code",
   "execution_count": 7,
   "metadata": {},
   "outputs": [
    {
     "data": {
      "text/plain": [
       "200"
      ]
     },
     "execution_count": 7,
     "metadata": {},
     "output_type": "execute_result"
    }
   ],
   "source": [
    "def register_data_plane_instance_for_provider():\n",
    "    global provider_control_intern\n",
    "    global provider_public_intern\n",
    "\n",
    "    return requests.post(\n",
    "            headers=default_headers,\n",
    "            data=json.dumps({\n",
    "                \"@context\": {\n",
    "                    \"edc\": \"https://w3id.org/edc/v0.0.1/ns/\"\n",
    "                },\n",
    "                \"@id\": \"provider-dataplane\",\n",
    "                \"url\": f\"{provider_control_intern}/transfer\",\n",
    "                \"allowedSourceTypes\": [ \"HttpData\" ],\n",
    "                \"allowedDestTypes\": [ \"HttpProxy\", \"HttpData\" ],\n",
    "                \"properties\": {\n",
    "                        \"https://w3id.org/edc/v0.0.1/ns/publicApiUrl\": f\"{provider_public_intern}/\"\n",
    "                }\n",
    "            }),\n",
    "            url=f\"{PROVIDER_MANAGEMENT}/v2/dataplanes\"\n",
    "        )\n",
    "\n",
    "\"\"\"\n",
    "better execute it once on your connector, if you don't\n",
    "know what you're doing it for. I don't, but it's apparently\n",
    "necessairy and overusing it may cause appearing unexpected\n",
    "contract offers for exapmple.\n",
    "\n",
    "It's not harmful at all, just has the potential to confuse the dev.\n",
    "\"\"\"\n",
    "\n",
    "register_data_plane_instance_for_provider().status_code"
   ]
  },
  {
   "cell_type": "code",
   "execution_count": 8,
   "metadata": {},
   "outputs": [
    {
     "data": {
      "text/plain": [
       "409"
      ]
     },
     "execution_count": 8,
     "metadata": {},
     "output_type": "execute_result"
    }
   ],
   "source": [
    "create_an_asset_on_the_provider_side = requests.post(\n",
    "            headers=default_headers,\n",
    "            data=json.dumps({\n",
    "                \"@context\": {\n",
    "                    \"edc\": \"https://w3id.org/edc/v0.0.1/ns/\"\n",
    "                },\n",
    "                \"@id\": \"asset-workshop-demo-by-api\",\n",
    "                \"properties\": {\n",
    "                    \"name\": \"test of asset, just to have another one on board\",\n",
    "                    \"contenttype\": \"application/json\"\n",
    "                },\n",
    "                \"private_properties\": {\n",
    "                  \"name\": \"test of asset, just to have another one on board\",\n",
    "                  \"contenttype\": \"application/json\"\n",
    "                },\n",
    "                \"dataAddress\": {\n",
    "                    \"name\": \"Test asset\",\n",
    "                    \"baseUrl\": \"https://jsonplaceholder.typicode.com/users\",\n",
    "                    \"type\": \"HttpData\"\n",
    "                    }\n",
    "                }),\n",
    "            url=f\"{PROVIDER_MANAGEMENT}/v3/assets\"\n",
    "            )\n",
    "\n",
    "# expected 200 or 409 (already exists) because the @id is fixed in the example\n",
    "create_an_asset_on_the_provider_side.status_code"
   ]
  },
  {
   "cell_type": "code",
   "execution_count": 9,
   "metadata": {},
   "outputs": [
    {
     "name": "stdout",
     "output_type": "stream",
     "text": [
      "{'_content': b'[{\"message\":\"Policy with ID aPolicy already exists\",\"type\":\"Obje'\n",
      "             b'ctConflict\",\"path\":null,\"invalidValue\":null}]',\n",
      " '_content_consumed': True,\n",
      " '_next': None,\n",
      " 'connection': <requests.adapters.HTTPAdapter object at 0x7f1535fb2f20>,\n",
      " 'cookies': <RequestsCookieJar[]>,\n",
      " 'elapsed': datetime.timedelta(microseconds=46136),\n",
      " 'encoding': 'utf-8',\n",
      " 'headers': {'Date': 'Sun, 09 Jun 2024 20:27:44 GMT', 'Content-Type': 'application/json', 'Access-Control-Allow-Origin': '*', 'Access-Control-Allow-Headers': 'origin,content-type,accept,authorization,x-api-key', 'Access-Control-Allow-Methods': 'GET, POST, DELETE, PUT, OPTIONS', 'Content-Length': '109'},\n",
      " 'history': [],\n",
      " 'raw': <urllib3.response.HTTPResponse object at 0x7f1535fb2b60>,\n",
      " 'reason': 'Conflict',\n",
      " 'request': <PreparedRequest [POST]>,\n",
      " 'status_code': 409,\n",
      " 'url': 'http://localhost:19193/management/v2/policydefinitions'}\n",
      "409\n"
     ]
    }
   ],
   "source": [
    "create_policy_on_the_provider = requests.post(\n",
    "            headers=default_headers,\n",
    "            data=json.dumps({\n",
    "                \"@context\": {\n",
    "                    \"edc\": \"https://w3id.org/edc/v0.0.1/ns/\",\n",
    "                    \"odrl\": \"http://www.w3.org/ns/odrl/2/\"\n",
    "                },\n",
    "                \"@id\": \"aPolicy\",\n",
    "                \"policy\": {\n",
    "                    \"@context\": \"http://www.w3.org/ns/odrl.jsonld\",\n",
    "                    \"@type\": \"Set\",\n",
    "                    \"odrl:permission\": [],\n",
    "                    \"odrl:prohibition\": [],\n",
    "                    \"odrl:obligation\": []\n",
    "                }\n",
    "                }),\n",
    "            url=f\"{PROVIDER_MANAGEMENT}/v2/policydefinitions\"\n",
    "        )\n",
    "\n",
    "from pprint import pprint\n",
    "pprint(vars(create_policy_on_the_provider))\n",
    "\n",
    "# expected 200 or 409 (already exists) because the @id is fixed in the example\n",
    "print(create_policy_on_the_provider.status_code)"
   ]
  },
  {
   "cell_type": "code",
   "execution_count": 10,
   "metadata": {},
   "outputs": [
    {
     "data": {
      "text/plain": [
       "409"
      ]
     },
     "execution_count": 10,
     "metadata": {},
     "output_type": "execute_result"
    }
   ],
   "source": [
    "create_a_contract_definition_on_provider = requests.post(\n",
    "            headers=default_headers,\n",
    "            data=json.dumps({\n",
    "                \"@context\": {\n",
    "                    \"edc\": \"https://w3id.org/edc/v0.0.1/ns/\"\n",
    "                },\n",
    "                \"@id\": \"3\",\n",
    "                \"accessPolicyId\": \"aPolicy\",\n",
    "                \"contractPolicyId\": \"aPolicy\",\n",
    "                \"assetsSelector\": []\n",
    "                }),\n",
    "            url=f\"{PROVIDER_MANAGEMENT}/v2/contractdefinitions\"\n",
    "        )\n",
    "\n",
    "# expected 200 or 409 (already exists) because the @id is fixed in the example\n",
    "create_a_contract_definition_on_provider.status_code"
   ]
  },
  {
   "cell_type": "markdown",
   "metadata": {},
   "source": [
    "### Working on consumer side"
   ]
  },
  {
   "cell_type": "code",
   "execution_count": 11,
   "metadata": {},
   "outputs": [
    {
     "data": {
      "text/plain": [
       "200"
      ]
     },
     "execution_count": 11,
     "metadata": {},
     "output_type": "execute_result"
    }
   ],
   "source": [
    "fetch_catalog_on_consumer_side = requests.post(\n",
    "            headers=default_headers,\n",
    "            data=json.dumps({\n",
    "                \"@context\": {\n",
    "                    \"edc\": \"https://w3id.org/edc/v0.0.1/ns/\"\n",
    "                },\n",
    "                \"@type\": \"CatalogRequest\",\n",
    "                \"counterPartyAddress\": provider_protocol_internal,\n",
    "                \"protocol\": \"dataspace-protocol-http\"\n",
    "                }),\n",
    "            url=f\"{CONSUMER_MANAGEMENT}/v2/catalog/request\"\n",
    "        )\n",
    "\n",
    "fetch_catalog_on_consumer_side.status_code"
   ]
  },
  {
   "cell_type": "code",
   "execution_count": null,
   "metadata": {},
   "outputs": [],
   "source": [
    "# get_dataplanes_or_sth = requests.get(\n",
    "#     headers=default_headers,\n",
    "#     url=f\"{PROVIDER_MANAGEMENT}/v2/dataplanes\"\n",
    "# )\n",
    "# get_dataplanes_or_sth.json()"
   ]
  },
  {
   "cell_type": "code",
   "execution_count": 12,
   "metadata": {},
   "outputs": [
    {
     "data": {
      "text/plain": [
       "{'@id': 'fe9a1b60-4025-4dcd-a27d-9896f3acf36a',\n",
       " '@type': 'dcat:Catalog',\n",
       " 'dspace:participantId': 'provider',\n",
       " 'dcat:dataset': {'@id': 'asset-workshop-demo-by-api',\n",
       "  '@type': 'dcat:Dataset',\n",
       "  'odrl:hasPolicy': {'@id': 'Mw==:YXNzZXQtd29ya3Nob3AtZGVtby1ieS1hcGk=:ZmIwZWIzZjQtNjgxNy00YTFjLWI1OWQtMDUyY2IwMjA2MmQy',\n",
       "   '@type': 'odrl:Offer',\n",
       "   'odrl:permission': [],\n",
       "   'odrl:prohibition': [],\n",
       "   'odrl:obligation': []},\n",
       "  'dcat:distribution': [{'@type': 'dcat:Distribution',\n",
       "    'dct:format': {'@id': 'HttpProxy-PUSH'},\n",
       "    'dcat:accessService': {'@id': 'd4932582-d6c7-4149-95a7-4404ed590c76',\n",
       "     '@type': 'dcat:DataService',\n",
       "     'dcat:endpointDescription': 'dspace:connector',\n",
       "     'dcat:endpointUrl': 'http://provider-connector:19194/protocol',\n",
       "     'dct:terms': 'dspace:connector',\n",
       "     'dct:endpointUrl': 'http://provider-connector:19194/protocol'}},\n",
       "   {'@type': 'dcat:Distribution',\n",
       "    'dct:format': {'@id': 'HttpData-PULL'},\n",
       "    'dcat:accessService': {'@id': 'd4932582-d6c7-4149-95a7-4404ed590c76',\n",
       "     '@type': 'dcat:DataService',\n",
       "     'dcat:endpointDescription': 'dspace:connector',\n",
       "     'dcat:endpointUrl': 'http://provider-connector:19194/protocol',\n",
       "     'dct:terms': 'dspace:connector',\n",
       "     'dct:endpointUrl': 'http://provider-connector:19194/protocol'}},\n",
       "   {'@type': 'dcat:Distribution',\n",
       "    'dct:format': {'@id': 'HttpData-PUSH'},\n",
       "    'dcat:accessService': {'@id': 'd4932582-d6c7-4149-95a7-4404ed590c76',\n",
       "     '@type': 'dcat:DataService',\n",
       "     'dcat:endpointDescription': 'dspace:connector',\n",
       "     'dcat:endpointUrl': 'http://provider-connector:19194/protocol',\n",
       "     'dct:terms': 'dspace:connector',\n",
       "     'dct:endpointUrl': 'http://provider-connector:19194/protocol'}}],\n",
       "  'name': 'test of asset, just to have another one on board',\n",
       "  'id': 'asset-workshop-demo-by-api',\n",
       "  'contenttype': 'application/json'},\n",
       " 'dcat:service': {'@id': 'd4932582-d6c7-4149-95a7-4404ed590c76',\n",
       "  '@type': 'dcat:DataService',\n",
       "  'dcat:endpointDescription': 'dspace:connector',\n",
       "  'dcat:endpointUrl': 'http://provider-connector:19194/protocol',\n",
       "  'dct:terms': 'dspace:connector',\n",
       "  'dct:endpointUrl': 'http://provider-connector:19194/protocol'},\n",
       " 'participantId': 'provider',\n",
       " '@context': {'@vocab': 'https://w3id.org/edc/v0.0.1/ns/',\n",
       "  'edc': 'https://w3id.org/edc/v0.0.1/ns/',\n",
       "  'dcat': 'http://www.w3.org/ns/dcat#',\n",
       "  'dct': 'http://purl.org/dc/terms/',\n",
       "  'odrl': 'http://www.w3.org/ns/odrl/2/',\n",
       "  'dspace': 'https://w3id.org/dspace/v0.8/'}}"
      ]
     },
     "execution_count": 12,
     "metadata": {},
     "output_type": "execute_result"
    }
   ],
   "source": [
    "## a quick lookup\n",
    "fetch_catalog_on_consumer_side.json()"
   ]
  },
  {
   "cell_type": "code",
   "execution_count": 23,
   "metadata": {},
   "outputs": [
    {
     "name": "stdout",
     "output_type": "stream",
     "text": [
      "{'@id': 'Mw==:YXNzZXQtd29ya3Nob3AtZGVtby1ieS1hcGk=:ZmIwZWIzZjQtNjgxNy00YTFjLWI1OWQtMDUyY2IwMjA2MmQy', '@type': 'odrl:Offer', 'odrl:permission': [], 'odrl:prohibition': [], 'odrl:obligation': []}\n",
      "Mw==:YXNzZXQtd29ya3Nob3AtZGVtby1ieS1hcGk=:ZmIwZWIzZjQtNjgxNy00YTFjLWI1OWQtMDUyY2IwMjA2MmQy\n",
      "{'_content': b'{\"@type\":\"IdResponse\",\"@id\":\"a88e4394-20e1-422c-b127-34e9b485ec5'\n",
      "             b'a\",\"createdAt\":1717964956825,\"@context\":{\"@vocab\":\"https://w3id.'\n",
      "             b'org/edc/v0.0.1/ns/\",\"edc\":\"https://w3id.org/edc/v0.0.1/ns/\",\"odr'\n",
      "             b'l\":\"http://www.w3.org/ns/odrl/2/\"}}',\n",
      " '_content_consumed': True,\n",
      " '_next': None,\n",
      " 'connection': <requests.adapters.HTTPAdapter object at 0x7f1535e1f5e0>,\n",
      " 'cookies': <RequestsCookieJar[]>,\n",
      " 'elapsed': datetime.timedelta(microseconds=18048),\n",
      " 'encoding': 'utf-8',\n",
      " 'headers': {'Date': 'Sun, 09 Jun 2024 20:29:16 GMT', 'Content-Type': 'application/json', 'Access-Control-Allow-Origin': '*', 'Access-Control-Allow-Headers': 'origin,content-type,accept,authorization,x-api-key', 'Access-Control-Allow-Methods': 'GET, POST, DELETE, PUT, OPTIONS', 'Content-Length': '227'},\n",
      " 'history': [],\n",
      " 'raw': <urllib3.response.HTTPResponse object at 0x7f1535e1f910>,\n",
      " 'reason': 'OK',\n",
      " 'request': <PreparedRequest [POST]>,\n",
      " 'status_code': 200,\n",
      " 'url': 'http://localhost:29193/management/v2/contractnegotiations'}\n"
     ]
    },
    {
     "data": {
      "text/plain": [
       "200"
      ]
     },
     "execution_count": 23,
     "metadata": {},
     "output_type": "execute_result"
    }
   ],
   "source": [
    "dcat_dataset = fetch_catalog_on_consumer_side.json()[\"dcat:dataset\"]\n",
    "\n",
    "if isinstance(dcat_dataset, list):\n",
    "    _policy = dcat_dataset[0][\"odrl:hasPolicy\"]\n",
    "else:\n",
    "    _policy = dcat_dataset[\"odrl:hasPolicy\"]\n",
    "\n",
    "if isinstance(_policy, list):\n",
    "    offer_id = _policy[0][\"@id\"]\n",
    "else:\n",
    "    offer_id = _policy[\"@id\"]\n",
    "\n",
    "print(_policy);\n",
    "print(offer_id);\n",
    "\n",
    "negociate_a_contract = requests.post(\n",
    "            headers=default_headers,\n",
    "            data=json.dumps({\n",
    "                \"@context\": {\n",
    "                    \"edc\": \"https://w3id.org/edc/v0.0.1/ns/\"\n",
    "                },\n",
    "                \"@type\": \"ContractRequest\",\n",
    "                \"counterPartyAddress\": provider_protocol_internal,\n",
    "                \"protocol\": \"dataspace-protocol-http\",\n",
    "                \"policy\": {\n",
    "                        \"@context\": \"http://www.w3.org/ns/odrl.jsonld\",\n",
    "                        \"@id\": f\"{offer_id}\",\n",
    "                        \"@type\": \"Offer\",\n",
    "                        \"assigner\": \"provider\",\n",
    "                        \"target\": \"assetId\"\n",
    "                }\n",
    "            }),\n",
    "            url=f\"{CONSUMER_MANAGEMENT}/v2/contractnegotiations\"\n",
    "        )\n",
    "from pprint import pprint\n",
    "pprint(vars(negociate_a_contract))\n",
    "\n",
    "negociate_a_contract.status_code"
   ]
  },
  {
   "cell_type": "code",
   "execution_count": 24,
   "metadata": {},
   "outputs": [
    {
     "data": {
      "text/plain": [
       "{'@type': 'IdResponse',\n",
       " '@id': 'a88e4394-20e1-422c-b127-34e9b485ec5a',\n",
       " 'createdAt': 1717964956825,\n",
       " '@context': {'@vocab': 'https://w3id.org/edc/v0.0.1/ns/',\n",
       "  'edc': 'https://w3id.org/edc/v0.0.1/ns/',\n",
       "  'odrl': 'http://www.w3.org/ns/odrl/2/'}}"
      ]
     },
     "execution_count": 24,
     "metadata": {},
     "output_type": "execute_result"
    }
   ],
   "source": [
    "negociate_a_contract.json()"
   ]
  },
  {
   "cell_type": "code",
   "execution_count": 25,
   "metadata": {},
   "outputs": [
    {
     "data": {
      "text/plain": [
       "'a88e4394-20e1-422c-b127-34e9b485ec5a'"
      ]
     },
     "execution_count": 25,
     "metadata": {},
     "output_type": "execute_result"
    }
   ],
   "source": [
    "contract_negotiation_id = negociate_a_contract.json()[\"@id\"]\n",
    "\n",
    "def wait_for_negotiation_to_reach_finalized_state():\n",
    "    \"\"\"\n",
    "    In some cases, contract negotiation may take some time to reach \"finalized\" state.\n",
    "    This function waits for agreement to reach \"FINALIZED\" state (without time limit though).\n",
    "    It doesn't return anything because it's job is only to wait until the connector is ready\n",
    "    for further work\n",
    "    \"\"\"\n",
    "\n",
    "    from time import sleep\n",
    "    while True:\n",
    "        getting_contract_agreement_id = requests.get(\n",
    "            headers={\"Content-Type\": \"application/json\"},\n",
    "            url=f\"{CONSUMER_MANAGEMENT}/v2/contractnegotiations/{contract_negotiation_id}\"\n",
    "        )\n",
    "        print(getting_contract_agreement_id.status_code)\n",
    "        try:\n",
    "            JJ = getting_contract_agreement_id.json()\n",
    "            if \"edc:state\" in JJ and JJ[\"edc:state\"] == \"FINALIZED\": return\n",
    "        except json.JSONDecodeError:\n",
    "            pass\n",
    "        sleep(1.0)\n",
    "\n",
    "contract_negotiation_id"
   ]
  },
  {
   "cell_type": "code",
   "execution_count": 26,
   "metadata": {},
   "outputs": [
    {
     "data": {
      "text/plain": [
       "'FINALIZED'"
      ]
     },
     "execution_count": 26,
     "metadata": {},
     "output_type": "execute_result"
    }
   ],
   "source": [
    "getting_contract_agreement_id = requests.get(\n",
    "        headers=default_headers,\n",
    "        url=f\"{CONSUMER_MANAGEMENT}/v2/contractnegotiations/{contract_negotiation_id}\"\n",
    "    )\n",
    "getting_contract_agreement_id.json()[\"state\"]"
   ]
  },
  {
   "cell_type": "code",
   "execution_count": 27,
   "metadata": {},
   "outputs": [],
   "source": [
    "def request_provider_push_transfer(contract_agreement_id: str) -> requests.Response:\n",
    "    return requests.post(\n",
    "            headers={'Content-Type': 'application/json'},\n",
    "            data=json.dumps({\n",
    "                \"@context\": {\n",
    "                    \"edc\": \"https://w3id.org/edc/v0.0.1/ns/\"\n",
    "                },\n",
    "                \"@type\": \"TransferRequestDto\",\n",
    "                \"connectorId\": \"provider\",\n",
    "                \"connectorAddress\": f\"{provider_protocol_internal}\",\n",
    "                \"contractId\": f\"{contract_agreement_id}\",\n",
    "                \"assetId\": \"assetId\",\n",
    "                \"protocol\": \"dataspace-protocol-http\",\n",
    "                \"transferType\": \"HttpData-PUSH\",\n",
    "                \"dataDestination\": { \n",
    "                    \"type\": \"HttpData\",\n",
    "                    \"baseUrl\": f\"http://consumer-backend:4000/api/consumer/store\"\n",
    "                }\n",
    "            }),\n",
    "            url=f\"{CONSUMER_MANAGEMENT}/v2/transferprocesses\"\n",
    "        )\n",
    "\n",
    "def request_consumer_pull_transfer(contract_agreement_id: str) -> requests.Response:\n",
    "    return requests.post(\n",
    "            headers=default_headers,\n",
    "            data=json.dumps({\n",
    "                \"@context\": {\n",
    "                    \"@vocab\": \"https://w3id.org/edc/v0.0.1/ns/\"\n",
    "                },\n",
    "                \"@type\": \"TransferRequestDto\",\n",
    "                \"connectorId\": \"provider\",\n",
    "                \"counterPartyAddress\": f\"{provider_protocol_internal}\",\n",
    "                \"contractId\": f\"{contract_agreement_id}\",\n",
    "                \"assetId\": \"assetId\",\n",
    "                \"protocol\": \"dataspace-protocol-http\",\n",
    "                \"transferType\": \"HttpData-PULL\"\n",
    "            }),\n",
    "            url=f\"{CONSUMER_MANAGEMENT}/v2/transferprocesses\"\n",
    "        )\n"
   ]
  },
  {
   "cell_type": "code",
   "execution_count": 28,
   "metadata": {},
   "outputs": [],
   "source": [
    "contract_agreement_id = getting_contract_agreement_id.json()[\"contractAgreementId\"]\n",
    "\n",
    "# provider_push_transfer = provider_push_transfer(contract_agreement_id)\n",
    "consumer_pull_transfer = request_consumer_pull_transfer(contract_agreement_id)"
   ]
  },
  {
   "cell_type": "code",
   "execution_count": 47,
   "metadata": {
    "scrolled": true
   },
   "outputs": [
    {
     "data": {
      "text/plain": [
       "{'@type': 'IdResponse',\n",
       " '@id': '2d62df5f-fc46-489e-b7c4-f72f5be72de2',\n",
       " 'createdAt': 1717784018422,\n",
       " '@context': {'@vocab': 'https://w3id.org/edc/v0.0.1/ns/',\n",
       "  'edc': 'https://w3id.org/edc/v0.0.1/ns/',\n",
       "  'odrl': 'http://www.w3.org/ns/odrl/2/'}}"
      ]
     },
     "execution_count": 47,
     "metadata": {},
     "output_type": "execute_result"
    }
   ],
   "source": [
    "consumer_pull_transfer.json()"
   ]
  },
  {
   "cell_type": "code",
   "execution_count": 46,
   "metadata": {},
   "outputs": [
    {
     "data": {
      "text/plain": [
       "{'@type': 'TransferState',\n",
       " 'state': 'REQUESTED',\n",
       " '@context': {'@vocab': 'https://w3id.org/edc/v0.0.1/ns/',\n",
       "  'edc': 'https://w3id.org/edc/v0.0.1/ns/',\n",
       "  'odrl': 'http://www.w3.org/ns/odrl/2/'}}"
      ]
     },
     "execution_count": 46,
     "metadata": {},
     "output_type": "execute_result"
    }
   ],
   "source": [
    "pull_transfer_id = consumer_pull_transfer.json()[\"@id\"]\n",
    "\n",
    "\"\"\"\n",
    "Don't be supprised if transfer remains in the \"Started\" state.\n",
    "It may stay this way even when transfer is completed.\n",
    "\"\"\"\n",
    "\n",
    "requests.get(headers=default_headers, url=f\"{CONSUMER_MANAGEMENT}/v2/transferprocesses/{pull_transfer_id}/state\").json()"
   ]
  },
  {
   "cell_type": "code",
   "execution_count": 48,
   "metadata": {},
   "outputs": [
    {
     "data": {
      "text/plain": [
       "{'@type': 'IdResponse',\n",
       " '@id': '2d62df5f-fc46-489e-b7c4-f72f5be72de2',\n",
       " 'createdAt': 1717784018422,\n",
       " '@context': {'@vocab': 'https://w3id.org/edc/v0.0.1/ns/',\n",
       "  'edc': 'https://w3id.org/edc/v0.0.1/ns/',\n",
       "  'odrl': 'http://www.w3.org/ns/odrl/2/'}}"
      ]
     },
     "execution_count": 48,
     "metadata": {},
     "output_type": "execute_result"
    }
   ],
   "source": [
    "consumer_pull_transfer.json()"
   ]
  },
  {
   "cell_type": "code",
   "execution_count": 49,
   "metadata": {},
   "outputs": [
    {
     "data": {
      "text/plain": [
       "{'@id': '2d62df5f-fc46-489e-b7c4-f72f5be72de2',\n",
       " '@type': 'TransferProcess',\n",
       " 'state': 'REQUESTED',\n",
       " 'stateTimestamp': 1717784019073,\n",
       " 'type': 'CONSUMER',\n",
       " 'callbackAddresses': [],\n",
       " 'correlationId': '2b7ceae1-3f4b-4fb7-8ced-72a473863079',\n",
       " 'assetId': 'assetId',\n",
       " 'contractId': 'b97988d3-79d5-4b0e-a1d9-31467d02c61b',\n",
       " 'transferType': 'HttpData-PULL',\n",
       " 'dataDestination': {'@type': 'DataAddress', 'type': 'HttpProxy'},\n",
       " '@context': {'@vocab': 'https://w3id.org/edc/v0.0.1/ns/',\n",
       "  'edc': 'https://w3id.org/edc/v0.0.1/ns/',\n",
       "  'odrl': 'http://www.w3.org/ns/odrl/2/'}}"
      ]
     },
     "execution_count": 49,
     "metadata": {},
     "output_type": "execute_result"
    }
   ],
   "source": [
    "transfer_process_id = consumer_pull_transfer.json()[\"@id\"]\n",
    "\n",
    "check_transfer_status = requests.get(f\"{CONSUMER_MANAGEMENT}/v2/transferprocesses/{transfer_process_id}\", headers=default_headers)\n",
    "\n",
    "check_transfer_status.json()"
   ]
  }
 ],
 "metadata": {
  "kernelspec": {
   "display_name": "Python 3 (ipykernel)",
   "language": "python",
   "name": "python3"
  },
  "language_info": {
   "codemirror_mode": {
    "name": "ipython",
    "version": 3
   },
   "file_extension": ".py",
   "mimetype": "text/x-python",
   "name": "python",
   "nbconvert_exporter": "python",
   "pygments_lexer": "ipython3",
   "version": "3.10.12"
  }
 },
 "nbformat": 4,
 "nbformat_minor": 4
}
